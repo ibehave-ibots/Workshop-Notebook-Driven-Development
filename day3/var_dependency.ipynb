{
 "cells": [
  {
   "cell_type": "code",
   "execution_count": 1,
   "metadata": {},
   "outputs": [],
   "source": [
    "from doit import load_ipython_extension\n",
    "load_ipython_extension()\n",
    "from doit.tools import run_once"
   ]
  },
  {
   "cell_type": "code",
   "execution_count": 2,
   "metadata": {},
   "outputs": [],
   "source": [
    "class VarClass :\n",
    "\n",
    "    def compute(self, a=2, b=3):\n",
    "        \"\"\" Create self.var\"\"\"\n",
    "        self.var= a + b\n",
    "\n",
    "    def use(self):\n",
    "        \"\"\" Use self.var\"\"\"\n",
    "        with open(\"test.txt\", 'w') as f :\n",
    "            f.write(str(self.var**2))\n",
    "\n",
    "    def var_exists(self):\n",
    "        \"\"\" Check if self.var exists\"\"\"\n",
    "        return hasattr(self, 'var')\n",
    "    \n",
    "VC=VarClass()"
   ]
  },
  {
   "cell_type": "code",
   "execution_count": 3,
   "metadata": {},
   "outputs": [],
   "source": [
    "def task_create_var():\n",
    "    return {\n",
    "        'actions': [VC.compute],\n",
    "        'uptodate': [VC.var_exists],\n",
    "    }\n",
    "\n",
    "def task_use_var():\n",
    "    return {\n",
    "        'actions': [VC.use],\n",
    "        'task_dep': ['create_var'],\n",
    "    }"
   ]
  },
  {
   "cell_type": "code",
   "execution_count": 4,
   "metadata": {},
   "outputs": [
    {
     "name": "stdout",
     "output_type": "stream",
     "text": [
      ".  create_var\n"
     ]
    }
   ],
   "source": [
    "%doit create_var"
   ]
  },
  {
   "cell_type": "code",
   "execution_count": 8,
   "metadata": {},
   "outputs": [
    {
     "name": "stdout",
     "output_type": "stream",
     "text": [
      "-- create_var\n",
      ".  use_var\n"
     ]
    }
   ],
   "source": [
    "%doit use_var"
   ]
  },
  {
   "cell_type": "code",
   "execution_count": 9,
   "metadata": {},
   "outputs": [],
   "source": [
    "del VC.var"
   ]
  },
  {
   "cell_type": "code",
   "execution_count": 10,
   "metadata": {},
   "outputs": [],
   "source": [
    "def test_task_pipeline():\n",
    "    # %doit use_var\n",
    "    # assert that the create_var task is executed\n",
    "    # %doit use_var\n",
    "    # assert that the create_var task is NOT executed\n",
    "    del VC.var\n",
    "    # %doit use_var\n",
    "    # assert that the create_var task is executed\n",
    "\n"
   ]
  }
 ],
 "metadata": {
  "kernelspec": {
   "display_name": "ndd",
   "language": "python",
   "name": "ndd"
  },
  "language_info": {
   "codemirror_mode": {
    "name": "ipython",
    "version": 3
   },
   "file_extension": ".py",
   "mimetype": "text/x-python",
   "name": "python",
   "nbconvert_exporter": "python",
   "pygments_lexer": "ipython3",
   "version": "3.11.0"
  }
 },
 "nbformat": 4,
 "nbformat_minor": 2
}
