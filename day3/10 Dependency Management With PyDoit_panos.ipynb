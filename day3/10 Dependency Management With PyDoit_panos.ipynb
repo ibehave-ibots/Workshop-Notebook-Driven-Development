{
 "cells": [
  {
   "cell_type": "code",
   "execution_count": 1,
   "metadata": {},
   "outputs": [],
   "source": [
    "# !pip install doit papermill pandas hvplot matplotlib"
   ]
  },
  {
   "cell_type": "code",
   "execution_count": 2,
   "metadata": {},
   "outputs": [],
   "source": [
    "from doit import load_ipython_extension\n",
    "load_ipython_extension()"
   ]
  },
  {
   "cell_type": "code",
   "execution_count": 3,
   "metadata": {},
   "outputs": [
    {
     "name": "stderr",
     "output_type": "stream",
     "text": [
      "Downloading data/steinmetz_all.csv: 100%|██████████| 1.52M/1.52M [00:00<00:00, 4.54MB/s]\n",
      "Downloading nb_active_trials.ipynb: 100%|██████████| 1.78k/1.78k [00:00<00:00, 173kB/s]\n",
      "Downloading nb_stats.ipynb: 100%|██████████| 10.2k/10.2k [00:00<00:00, 900kB/s]\n",
      "Downloading nb_plots.ipynb: 100%|██████████| 18.8k/18.8k [00:00<00:00, 577kB/s]\n"
     ]
    }
   ],
   "source": [
    "import sys\n",
    "sys.path.append('src')\n",
    "import sciebo\n",
    "\n",
    "sciebo.download_file('https://uni-bonn.sciebo.de/s/N8t6uo4mn6itdtG', 'data/steinmetz_all.csv')\n",
    "sciebo.download_file('https://uni-bonn.sciebo.de/s/5ke7GSFfMErS20y', 'nb_active_trials.ipynb')\n",
    "sciebo.download_file('https://uni-bonn.sciebo.de/s/UQKaks9opGYu211', 'nb_stats.ipynb')\n",
    "sciebo.download_file('https://uni-bonn.sciebo.de/s/dFomib4RDkGL39A', 'nb_plots.ipynb')"
   ]
  },
  {
   "cell_type": "markdown",
   "metadata": {},
   "source": [
    "# Dependency Management with Pydoit\n",
    "\n",
    "In Pydoit, dependency management is a core feature that ensures tasks are executed only when necessary. Dependencies can be files, task results, or parameters, and Pydoit will automatically skip tasks if none of their dependencies have changed."
   ]
  },
  {
   "cell_type": "markdown",
   "metadata": {},
   "source": [
    "## File Dependency\n",
    "\n",
    "In pydoit, file dependencies (file_dep) specify which files a task depends on to complete its action. A task will be executed only if one or more of its dependencies have changed since the last time the task ran. If none of the files have been modified, pydoit will skip the task.\n",
    "\n",
    "```python\n",
    "def task_name():\n",
    "    return {\n",
    "        'actions': ['command to execute'],\n",
    "        'file_dep': ['file_name']\n",
    "    }\n",
    "```"
   ]
  },
  {
   "cell_type": "markdown",
   "metadata": {},
   "source": [
    "**Example** Make `process` depend on file `data/steinmetz_all.csv` and run %doit.\n",
    "\n",
    "```python\n",
    "def task_process():\n",
    "    return {\n",
    "        'actions': ['papermill nb_active_trials.ipynb process.ipynb']\n",
    "    }\n",
    "```"
   ]
  },
  {
   "cell_type": "code",
   "execution_count": 12,
   "metadata": {},
   "outputs": [],
   "source": [
    "def task_process():\n",
    "    return {\n",
    "        'actions': ['papermill nb_active_trials.ipynb process.ipynb'],\n",
    "        'file_dep': ['data/steinmetz_all.csv'],\n",
    "        'targets': ['data/active_trials.csv'],\n",
    "    }"
   ]
  },
  {
   "cell_type": "code",
   "execution_count": 8,
   "metadata": {},
   "outputs": [
    {
     "name": "stdout",
     "output_type": "stream",
     "text": [
      "-- process\n"
     ]
    }
   ],
   "source": [
    "%doit process"
   ]
  },
  {
   "cell_type": "markdown",
   "metadata": {},
   "source": [
    "Run `process` again. What difference do you notice?"
   ]
  },
  {
   "cell_type": "code",
   "execution_count": 7,
   "metadata": {},
   "outputs": [
    {
     "name": "stdout",
     "output_type": "stream",
     "text": [
      "-- process\n"
     ]
    }
   ],
   "source": [
    "%doit process"
   ]
  },
  {
   "cell_type": "markdown",
   "metadata": {},
   "source": [
    "Make `stats` depend on file `data/active_trials.csv` and run %doit.\n",
    "\n",
    "```python\n",
    "def task_stats():\n",
    "    return {\n",
    "        'actions': ['papermill nb_stats.ipynb stats.ipynb']\n",
    "    }\n",
    "```"
   ]
  },
  {
   "cell_type": "code",
   "execution_count": 9,
   "metadata": {},
   "outputs": [],
   "source": [
    "def task_stats():\n",
    "    return {\n",
    "        'actions': ['papermill nb_stats.ipynb stats.ipynb'],\n",
    "        'file_dep': ['data/active_trials.csv']\n",
    "    }"
   ]
  },
  {
   "cell_type": "code",
   "execution_count": 11,
   "metadata": {},
   "outputs": [
    {
     "name": "stdout",
     "output_type": "stream",
     "text": [
      "-- stats\n"
     ]
    }
   ],
   "source": [
    "%doit stats"
   ]
  },
  {
   "cell_type": "markdown",
   "metadata": {},
   "source": [
    "Run `stats` again. What do you see?"
   ]
  },
  {
   "cell_type": "code",
   "execution_count": null,
   "metadata": {},
   "outputs": [],
   "source": []
  },
  {
   "cell_type": "markdown",
   "metadata": {},
   "source": [
    "Make `plot` depend on file `data/active_trials.csv` and run %doit.\n",
    "\n",
    "```python\n",
    "def task_plot():  \n",
    "    return {\n",
    "        'actions': ['papermill nb_plots.ipynb plots.ipynb']\n",
    "    }\n",
    "\n",
    "```"
   ]
  },
  {
   "cell_type": "code",
   "execution_count": 9,
   "metadata": {},
   "outputs": [],
   "source": [
    "def task_plot():  \n",
    "    return {\n",
    "        'actions': ['papermill nb_plots.ipynb plots.ipynb'],\n",
    "        'file_dep': ['data/active_trials.csv']\n",
    "    }\n"
   ]
  },
  {
   "cell_type": "code",
   "execution_count": null,
   "metadata": {},
   "outputs": [],
   "source": []
  },
  {
   "cell_type": "markdown",
   "metadata": {},
   "source": [
    "Run `plot` again. What do you see?"
   ]
  },
  {
   "cell_type": "code",
   "execution_count": null,
   "metadata": {},
   "outputs": [],
   "source": [
    "%doit plot"
   ]
  },
  {
   "cell_type": "markdown",
   "metadata": {},
   "source": [
    "## Targets\n",
    "\n",
    "In pydoit, targets (targets) specify the output files that a task is expected to create. The task will only run if the target files are missing or outdated based on file dependencies. Here's how you can define the targets for each of your tasks\n",
    "\n",
    "```python\n",
    "def task_name():\n",
    "    return {\n",
    "        'actions': ['command to execute'],\n",
    "        'file_dep': ['file_name'],\n",
    "        'targets': ['target_file_name']\n",
    "    }\n",
    "```\n",
    "\n",
    "**Delete data directory and run the below cell to only download steinmetz_all.csv**"
   ]
  },
  {
   "cell_type": "code",
   "execution_count": null,
   "metadata": {},
   "outputs": [],
   "source": [
    "import sys\n",
    "sys.path.append('src')\n",
    "import sciebo\n",
    "\n",
    "sciebo.download_file('https://uni-bonn.sciebo.de/s/N8t6uo4mn6itdtG', 'data/steinmetz_all.csv')"
   ]
  },
  {
   "cell_type": "markdown",
   "metadata": {},
   "source": [
    "**Example** Make `process` task depend on its output `data/active_trials.csv`"
   ]
  },
  {
   "cell_type": "code",
   "execution_count": 15,
   "metadata": {},
   "outputs": [],
   "source": [
    "def task_process():\n",
    "    return {\n",
    "        'actions': ['papermill nb_active_trials.ipynb process.ipynb'],\n",
    "        'file_dep': ['data/steinmetz_all.csv'],  \n",
    "        'targets': ['data/active_trials.csv']    \n",
    "    }"
   ]
  },
  {
   "cell_type": "code",
   "execution_count": null,
   "metadata": {},
   "outputs": [],
   "source": [
    "%doit process"
   ]
  },
  {
   "cell_type": "markdown",
   "metadata": {},
   "source": [
    "Run `process` task again. Does it run?"
   ]
  },
  {
   "cell_type": "code",
   "execution_count": null,
   "metadata": {},
   "outputs": [],
   "source": []
  },
  {
   "cell_type": "markdown",
   "metadata": {},
   "source": [
    "Delete **active_trials.csv** file only which is the target of `process` task and run it again. Does it run now?"
   ]
  },
  {
   "cell_type": "code",
   "execution_count": null,
   "metadata": {},
   "outputs": [],
   "source": []
  },
  {
   "cell_type": "markdown",
   "metadata": {},
   "source": [
    "Make `stats` task depend on its output `data/stats.csv`. What do you see is happening here?"
   ]
  },
  {
   "cell_type": "code",
   "execution_count": 19,
   "metadata": {},
   "outputs": [],
   "source": []
  },
  {
   "cell_type": "code",
   "execution_count": null,
   "metadata": {},
   "outputs": [],
   "source": []
  },
  {
   "cell_type": "markdown",
   "metadata": {},
   "source": [
    "Run `stats` task again. What do you see?"
   ]
  },
  {
   "cell_type": "code",
   "execution_count": null,
   "metadata": {},
   "outputs": [],
   "source": []
  },
  {
   "cell_type": "markdown",
   "metadata": {},
   "source": [
    "Delete `stats.csv` and run `stats` task again."
   ]
  },
  {
   "cell_type": "code",
   "execution_count": null,
   "metadata": {},
   "outputs": [],
   "source": []
  },
  {
   "cell_type": "markdown",
   "metadata": {},
   "source": [
    "Delete `active_trials.csv` and run `stats` process. What happened now?"
   ]
  },
  {
   "cell_type": "code",
   "execution_count": null,
   "metadata": {},
   "outputs": [],
   "source": []
  },
  {
   "cell_type": "markdown",
   "metadata": {},
   "source": [
    "Make `plot` task depend on its output `response_time_histogram.png`. "
   ]
  },
  {
   "cell_type": "code",
   "execution_count": 24,
   "metadata": {},
   "outputs": [],
   "source": []
  },
  {
   "cell_type": "code",
   "execution_count": null,
   "metadata": {},
   "outputs": [],
   "source": []
  },
  {
   "cell_type": "markdown",
   "metadata": {},
   "source": [
    "Delete `response_time_histogram.png` and run `plot` task again."
   ]
  },
  {
   "cell_type": "code",
   "execution_count": null,
   "metadata": {},
   "outputs": [],
   "source": []
  },
  {
   "cell_type": "markdown",
   "metadata": {},
   "source": [
    "### Adding papermill output notebooks as targets\n",
    "\n",
    "We can also add the output notebooks from papermill executions as targets since they are generated by the tasks."
   ]
  },
  {
   "cell_type": "markdown",
   "metadata": {},
   "source": [
    "**Example** Make `process` depend on its output `process.ipynb` and `data/active_trials.csv`"
   ]
  },
  {
   "cell_type": "code",
   "execution_count": 28,
   "metadata": {},
   "outputs": [],
   "source": [
    "def task_process():\n",
    "    return {\n",
    "        'actions': ['papermill nb_active_trials.ipynb process.ipynb'],\n",
    "        'file_dep': ['data/steinmetz_all.csv'],  \n",
    "        'targets': ['data/active_trials.csv', 'process.ipynb']    \n",
    "    }"
   ]
  },
  {
   "cell_type": "markdown",
   "metadata": {},
   "source": [
    "Make `stats` depend on its output `stats.ipynb` and `data/stats.csv`"
   ]
  },
  {
   "cell_type": "code",
   "execution_count": 29,
   "metadata": {},
   "outputs": [],
   "source": []
  },
  {
   "cell_type": "markdown",
   "metadata": {},
   "source": [
    "Make `plot` depend on its output `plots.ipynb` and `response_time_histogram.png`"
   ]
  },
  {
   "cell_type": "code",
   "execution_count": 30,
   "metadata": {},
   "outputs": [],
   "source": []
  }
 ],
 "metadata": {
  "kernelspec": {
   "display_name": "ndd",
   "language": "python",
   "name": "ndd"
  },
  "language_info": {
   "codemirror_mode": {
    "name": "ipython",
    "version": 3
   },
   "file_extension": ".py",
   "mimetype": "text/x-python",
   "name": "python",
   "nbconvert_exporter": "python",
   "pygments_lexer": "ipython3",
   "version": "3.11.0"
  }
 },
 "nbformat": 4,
 "nbformat_minor": 2
}
