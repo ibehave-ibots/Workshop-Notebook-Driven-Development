{
 "cells": [
  {
   "cell_type": "code",
   "execution_count": 2,
   "id": "42876d32-5d40-40f4-abad-ce46f1e23851",
   "metadata": {},
   "outputs": [],
   "source": [
    "# !pip install papermill nbconvert jupytext"
   ]
  },
  {
   "cell_type": "code",
   "execution_count": 3,
   "id": "c7396ea5-e22d-4568-bcc6-c949dd7204fd",
   "metadata": {},
   "outputs": [],
   "source": [
    "import papermill as pm"
   ]
  },
  {
   "cell_type": "markdown",
   "id": "8bcc4f64-54d2-4b67-8810-18214284da75",
   "metadata": {},
   "source": [
    "# Automate Notebook Execution and Parameterization\n",
    "\n",
    "In this notebook we learn how to use command-line tools automate the execution and management of Jupyter notebooks. \n",
    "We start by learning how to run command-line commands, like managing files or installing software, directly from the notebook. \n",
    "Then, we explore how to run entire notebooks from the command line, which helps when we need to automate tasks. \n",
    "We then see how to pass in parameters to a template notebook to generate automated analysis reports.\n",
    "We also see how to do batch processing of notebooks using Papermill."
   ]
  },
  {
   "cell_type": "markdown",
   "id": "e8a26f42-2c0e-4757-a4be-6896a9abceb4",
   "metadata": {},
   "source": [
    "## Running Command-Line Commands in Jupyter\n",
    "\n",
    "A command line is a text-based interface that allows users to interact with their computer’s operating system by typing commands, rather than using graphical interfaces.\n",
    "In this interface, users can navigate directories, manage files, run programs, and perform a wide range of tasks by typing specific commands.\n",
    "Popular command-line environments include Bash (common in Linux and macOS) and the Windows Command Prompt or PowerShell.\n",
    "\n",
    "As researchers we may need to use command-line for file management (move, rename, delete, or organize datasets), automate repeating tasks that may involve external tools, install software etc. \n",
    "\n",
    "Incorporating command-line commands into our analysis notebooks allows us to integrate external tools, automate repeating tasks, and manage data all within the same environment. \n",
    "\n",
    "\n",
    "| **Code Syntax**                          | **What it Does**                                                                 |\n",
    "|------------------------------------------|----------------------------------------------------------------------------------|\n",
    "| `!pip install pandas`                    | Installs the `pandas` library using `pip` within the Jupyter notebook environment. |\n",
    "| `!pip install --upgrade matplotlib`      | Upgrades the `matplotlib` library to the latest version using `pip`.              |\n",
    "| `!jupytext --to notebook script.py`      | Converts the Python script `script.py` to a Jupyter notebook format using `jupytext`. |\n",
    "| `!mkdir data_1`                          | Creates a new directory named `data_1`.                                           |\n",
    "| `%%bash`                                 | Indicates that the following cell will execute a bash script or command line instructions. |\n",
    "| `cp command_line/python_config.py data_1/python_config.py` | Copies the file `python_config.py` from `command_line` to the `data_1` directory. |\n",
    "| `rm data_1/python_config.py`             | Removes the file `python_config.py` from the `data_1` directory.                   |\n",
    "| `rm -r data_2`                           | Recursively removes the directory `data_2` and all its contents.                  |\n",
    "\n",
    "\n",
    "**Run below code to downlaod data for this section. You do not have to know the contents of the file as we are only learning how to manage files**"
   ]
  },
  {
   "cell_type": "code",
   "execution_count": 4,
   "id": "1996a51c-b4c8-4170-8893-c19d40b24163",
   "metadata": {},
   "outputs": [
    {
     "name": "stderr",
     "output_type": "stream",
     "text": [
      "Downloading command_line/text_config.txt: 100%|██████████| 79.0/79.0 [00:00<00:00, 9.18kB/s]\n",
      "Downloading command_line/python_config.py: 100%|██████████| 80.0/80.0 [00:00<00:00, 14.5kB/s]\n",
      "Downloading command_line/notebook_config.ipynb: 100%|██████████| 2.41k/2.41k [00:00<00:00, 87.7kB/s]\n"
     ]
    }
   ],
   "source": [
    "import sys\n",
    "sys.path.append('src')\n",
    "import sciebo\n",
    "\n",
    "sciebo.download_file('https://uni-bonn.sciebo.de/s/yDiGZT44SXLvK5r', 'command_line/text_config.txt')\n",
    "sciebo.download_file('https://uni-bonn.sciebo.de/s/apw9RMXjgfhQaK5', 'command_line/python_config.py')\n",
    "sciebo.download_file('https://uni-bonn.sciebo.de/s/lwVMGbzKQXFuIax', 'command_line/notebook_config.ipynb')"
   ]
  },
  {
   "cell_type": "markdown",
   "id": "a605215f-2769-4b39-bb7f-4b0b113e8f8d",
   "metadata": {},
   "source": [
    "**Example** Install `pandas`"
   ]
  },
  {
   "cell_type": "code",
   "execution_count": 5,
   "id": "5fe656bc-129a-41f2-8a69-b4ae6b943f1c",
   "metadata": {},
   "outputs": [],
   "source": [
    "# !pip install pandas"
   ]
  },
  {
   "cell_type": "markdown",
   "id": "0d956b96-f449-44b9-bab6-871bb1abc912",
   "metadata": {},
   "source": [
    "Install `numpy`"
   ]
  },
  {
   "cell_type": "code",
   "execution_count": 5,
   "id": "02b334e3-29c7-49d6-889a-7b2287dd78f0",
   "metadata": {},
   "outputs": [],
   "source": []
  },
  {
   "cell_type": "markdown",
   "id": "8b5edc6a-f6ed-4b54-a6b4-ca74a531a502",
   "metadata": {},
   "source": [
    "Install seaborn"
   ]
  },
  {
   "cell_type": "code",
   "execution_count": 6,
   "id": "21ed7160-20d1-46e9-93f8-d2c70f4f2782",
   "metadata": {},
   "outputs": [],
   "source": []
  },
  {
   "cell_type": "markdown",
   "id": "bfc7c6b2-c365-4a5b-80d1-640d6d8fcc18",
   "metadata": {},
   "source": [
    "You can use any option that comes along with the command-line command"
   ]
  },
  {
   "cell_type": "markdown",
   "id": "7a2569b3-858d-40b0-9c91-1d8fc62e3cec",
   "metadata": {},
   "source": [
    "**Example** Upgrade matplotlib"
   ]
  },
  {
   "cell_type": "code",
   "execution_count": 7,
   "id": "351bb5ba-89eb-44ac-b1bd-333264432974",
   "metadata": {},
   "outputs": [],
   "source": [
    "# !pip install --upgrade matplotlib"
   ]
  },
  {
   "cell_type": "markdown",
   "id": "48fdf38d-e7c9-465d-9632-ba157c52181f",
   "metadata": {},
   "source": [
    "Upgrade seaborn"
   ]
  },
  {
   "cell_type": "code",
   "execution_count": 8,
   "id": "a2ecb8b4-6ff4-42e1-ad95-9813bab29e72",
   "metadata": {},
   "outputs": [],
   "source": []
  },
  {
   "cell_type": "markdown",
   "id": "b1368d5c-e13c-4fbc-a85f-ec7230137931",
   "metadata": {},
   "source": [
    "Upgrade nbformat"
   ]
  },
  {
   "cell_type": "code",
   "execution_count": 9,
   "id": "43aa83ed-1111-424e-92d9-bde1bdc61365",
   "metadata": {},
   "outputs": [],
   "source": []
  },
  {
   "cell_type": "markdown",
   "id": "1b9b30c8",
   "metadata": {},
   "source": [
    "Let's practice converting scripts to notebooks\n",
    "\n",
    "**Example** Convert `script.py` (run below code to generate the file) to notebook. How does the resulting notebook look?"
   ]
  },
  {
   "cell_type": "code",
   "execution_count": 8,
   "id": "97a9d734",
   "metadata": {},
   "outputs": [
    {
     "name": "stdout",
     "output_type": "stream",
     "text": [
      "Writing script.py\n"
     ]
    }
   ],
   "source": [
    "%%writefile script.py\n",
    "num_mouse = 10\n",
    "num_contrast_left = 4\n",
    "num_contrast_right = 4"
   ]
  },
  {
   "cell_type": "code",
   "execution_count": 9,
   "id": "27471dbb",
   "metadata": {},
   "outputs": [
    {
     "name": "stdout",
     "output_type": "stream",
     "text": [
      "[jupytext] Reading script.py in format py\n",
      "[jupytext] Writing script.ipynb\n"
     ]
    }
   ],
   "source": [
    "!jupytext --to notebook script.py"
   ]
  },
  {
   "cell_type": "markdown",
   "id": "e0101812",
   "metadata": {},
   "source": [
    "Convert `script.py` (run below code to generate the file) to notebook. How does the resulting notebook look?"
   ]
  },
  {
   "cell_type": "code",
   "execution_count": 10,
   "id": "06cc694a",
   "metadata": {},
   "outputs": [
    {
     "name": "stdout",
     "output_type": "stream",
     "text": [
      "Overwriting script.py\n"
     ]
    }
   ],
   "source": [
    "%%writefile script.py\n",
    "num_mouse = 10\n",
    "num_contrast_left = 4\n",
    "num_contrast_right = 4\n",
    "\n",
    "print(num_mouse)"
   ]
  },
  {
   "cell_type": "code",
   "execution_count": 11,
   "id": "d21d2161",
   "metadata": {},
   "outputs": [
    {
     "name": "stdout",
     "output_type": "stream",
     "text": [
      "[jupytext] Reading script.py in format py\n",
      "[jupytext] Writing script.ipynb (destination file replaced [use --update to preserve cell outputs and ids])\n"
     ]
    }
   ],
   "source": [
    "!jupytext --to notebook script.py"
   ]
  },
  {
   "cell_type": "markdown",
   "id": "46b4a8f3",
   "metadata": {},
   "source": [
    "Convert `script.py` (run below code to generate the file) to notebook. How does the resulting notebook look?"
   ]
  },
  {
   "cell_type": "code",
   "execution_count": 12,
   "id": "cee41879",
   "metadata": {},
   "outputs": [
    {
     "name": "stdout",
     "output_type": "stream",
     "text": [
      "Overwriting script.py\n"
     ]
    }
   ],
   "source": [
    "%%writefile script.py\n",
    "num_mouse = 10\n",
    "num_contrast_left = 4\n",
    "num_contrast_right = 4\n",
    "\n",
    "num_mouse"
   ]
  },
  {
   "cell_type": "code",
   "execution_count": 13,
   "id": "1a4bfe13",
   "metadata": {},
   "outputs": [
    {
     "name": "stdout",
     "output_type": "stream",
     "text": [
      "[jupytext] Reading script.py in format py\n",
      "[jupytext] Writing script.ipynb (destination file replaced [use --update to preserve cell outputs and ids])\n"
     ]
    }
   ],
   "source": [
    "!jupytext --to notebook script.py"
   ]
  },
  {
   "cell_type": "markdown",
   "id": "b42801e4",
   "metadata": {},
   "source": [
    "Convert `script.py` (run below code to generate the file) to notebook. How does the resulting notebook look?"
   ]
  },
  {
   "cell_type": "code",
   "execution_count": 15,
   "id": "581604d9",
   "metadata": {},
   "outputs": [
    {
     "name": "stdout",
     "output_type": "stream",
     "text": [
      "Overwriting script.py\n"
     ]
    }
   ],
   "source": [
    "%%writefile script.py\n",
    "# %% [markdown]\n",
    "# Title\n",
    "\n",
    "# %%\n",
    "a = 10"
   ]
  },
  {
   "cell_type": "code",
   "execution_count": 16,
   "id": "7d0f575e",
   "metadata": {},
   "outputs": [
    {
     "name": "stdout",
     "output_type": "stream",
     "text": [
      "[jupytext] Reading script.py in format py\n",
      "[jupytext] Writing script.ipynb (destination file replaced [use --update to preserve cell outputs and ids])\n"
     ]
    }
   ],
   "source": [
    "!jupytext --to notebook script.py"
   ]
  },
  {
   "cell_type": "markdown",
   "id": "d4aedaa7",
   "metadata": {},
   "source": [
    "Create `script.py` with the a title \"Data Analysis\" and a=10, b=100. Convert it to notebook. How does the resulting notebook look?"
   ]
  },
  {
   "cell_type": "code",
   "execution_count": 18,
   "id": "b12d389a",
   "metadata": {},
   "outputs": [],
   "source": [
    "# %% [markdown]\n",
    "# Data Analysis\n",
    "\n",
    "# %%\n",
    "a=10\n",
    "b=10"
   ]
  },
  {
   "cell_type": "code",
   "execution_count": null,
   "id": "c6021f2b",
   "metadata": {},
   "outputs": [],
   "source": []
  },
  {
   "cell_type": "markdown",
   "id": "437b2134-9d62-47cb-8b45-a67164de0c97",
   "metadata": {},
   "source": [
    "**Example** Create a new directory called `data_1`"
   ]
  },
  {
   "cell_type": "code",
   "execution_count": 17,
   "id": "3c1ddcdf-9e9d-4aa9-9cee-bd744f176f7e",
   "metadata": {},
   "outputs": [],
   "source": [
    "!mkdir data_1"
   ]
  },
  {
   "cell_type": "markdown",
   "id": "7876eec0-cf45-49ae-89a9-9b375043a221",
   "metadata": {},
   "source": [
    "Create a new directory `data_2`"
   ]
  },
  {
   "cell_type": "code",
   "execution_count": 21,
   "id": "ae8bff92-d2cd-416e-8e72-011b9bc796dc",
   "metadata": {},
   "outputs": [],
   "source": []
  },
  {
   "cell_type": "markdown",
   "id": "dd185198-f5b6-4e25-a003-2a6e362057de",
   "metadata": {},
   "source": [
    "Create a new directory `data_1/data_1_sub`\n",
    "\n",
    "(`data_1\\data_1_sub` for windows machines)"
   ]
  },
  {
   "cell_type": "code",
   "execution_count": 22,
   "id": "359f1dc0-ed2a-4ca5-9324-db1e5e6195ce",
   "metadata": {},
   "outputs": [],
   "source": []
  },
  {
   "cell_type": "markdown",
   "id": "5a54e792-8afb-4963-8b88-84475be0c969",
   "metadata": {},
   "source": [
    "We can run Linux command-line commands within a cell using %%bash\n",
    "\n",
    "**Example** Copy `magic_commands/hello.py` to `data_1` directory"
   ]
  },
  {
   "cell_type": "code",
   "execution_count": 18,
   "id": "af6b8ae4-4cde-4530-ab03-9ce13e3edcba",
   "metadata": {},
   "outputs": [],
   "source": [
    "%%bash\n",
    "cp command_line/python_config.py data_1/python_config.py"
   ]
  },
  {
   "cell_type": "code",
   "execution_count": 19,
   "id": "c7c8667b",
   "metadata": {},
   "outputs": [],
   "source": [
    "!cp command_line/python_config.py data_1/python_config2.py"
   ]
  },
  {
   "cell_type": "markdown",
   "id": "654ba857-6673-499a-811a-902f492f3cea",
   "metadata": {},
   "source": [
    "Copy `magic_commands/text_config.txt` to `data_1`"
   ]
  },
  {
   "cell_type": "code",
   "execution_count": 21,
   "id": "a41c71d7-7416-4c4b-b8a0-70fac5e764bb",
   "metadata": {},
   "outputs": [],
   "source": [
    "!cp magic_commands/text_config.txt data_1/text_config.txt"
   ]
  },
  {
   "cell_type": "markdown",
   "id": "5b0872bb-66eb-4ceb-ada0-3f43a0e05b05",
   "metadata": {},
   "source": [
    "Copy `magic_commands/notebook_config.ipynb` to `data_1/data_1_sub` with a name `nb_config.ipynb`"
   ]
  },
  {
   "cell_type": "code",
   "execution_count": 25,
   "id": "a57def14-dbd1-4168-b266-b4ee6f82abc8",
   "metadata": {},
   "outputs": [],
   "source": []
  },
  {
   "cell_type": "markdown",
   "id": "f48aefca-d19d-4e41-835f-a3890787f98f",
   "metadata": {},
   "source": [
    "**Example** Delete `data_1/text_config.txt` (Only file)"
   ]
  },
  {
   "cell_type": "code",
   "execution_count": 22,
   "id": "4a18a6a1-e4ce-48a0-97ce-50b5e95694e5",
   "metadata": {},
   "outputs": [],
   "source": [
    "%%bash\n",
    "rm data_1/text_config.txt"
   ]
  },
  {
   "cell_type": "markdown",
   "id": "09d821c6",
   "metadata": {},
   "source": [
    "Delete `data_1/python_config.txt` (Only file)"
   ]
  },
  {
   "cell_type": "code",
   "execution_count": 23,
   "id": "14c573a0-7d5e-416c-8868-71a74dbb9b7f",
   "metadata": {},
   "outputs": [],
   "source": [
    "%%bash\n",
    "rm data_1/python_config2.py"
   ]
  },
  {
   "cell_type": "markdown",
   "id": "ab460ad8-1e82-4ef0-aef7-ebe0ad8edbae",
   "metadata": {},
   "source": [
    "**Example** Delete `data_2` directory"
   ]
  },
  {
   "cell_type": "code",
   "execution_count": 28,
   "id": "e027268a-a966-4877-a3de-d660e49b4501",
   "metadata": {},
   "outputs": [],
   "source": [
    "%%bash\n",
    "rm -r data_2"
   ]
  },
  {
   "cell_type": "markdown",
   "id": "508613d6-3805-4ca4-8731-b444134799da",
   "metadata": {},
   "source": [
    "Delete `data_1` including sub-directories"
   ]
  },
  {
   "cell_type": "code",
   "execution_count": 24,
   "id": "80e40a23",
   "metadata": {},
   "outputs": [],
   "source": [
    "%%bash\n",
    "rm -r data_1"
   ]
  },
  {
   "cell_type": "markdown",
   "id": "2224c9ef-cc94-4100-956f-b2a12edc7c89",
   "metadata": {},
   "source": [
    "---"
   ]
  },
  {
   "cell_type": "markdown",
   "id": "e22ef9d2-cd30-4e92-8b44-c0608f9416ea",
   "metadata": {},
   "source": [
    "**Run below code to download data for this section**"
   ]
  },
  {
   "cell_type": "code",
   "execution_count": 25,
   "id": "bcb7e55d-e19f-44a0-8384-f8642189e7b8",
   "metadata": {},
   "outputs": [
    {
     "name": "stderr",
     "output_type": "stream",
     "text": [
      "Downloading data/2016-12-14_Cori.csv: 100%|██████████| 25.5M/25.5M [00:02<00:00, 11.4MB/s]\n",
      "Downloading parameterization/01_notebook_brain_area.ipynb: 100%|██████████| 4.29k/4.29k [00:00<00:00, 457kB/s]\n",
      "Downloading parameterization/02_notebook_fixed_response.ipynb: 100%|██████████| 2.36k/2.36k [00:00<00:00, 356kB/s]\n",
      "Downloading parameterization/03_notebook_fixed_feedback.ipynb: 100%|██████████| 2.37k/2.37k [00:00<00:00, 377kB/s]\n"
     ]
    }
   ],
   "source": [
    "import sys\n",
    "sys.path.append('src')\n",
    "import sciebo\n",
    "\n",
    "sciebo.download_file('https://uni-bonn.sciebo.de/s/nih6mIiDSLOlPHU', 'data/2016-12-14_Cori.csv')\n",
    "sciebo.download_file('https://uni-bonn.sciebo.de/s/dkPOipzGNjkBiXQ', 'parameterization/01_notebook_brain_area.ipynb')\n",
    "sciebo.download_file('https://uni-bonn.sciebo.de/s/WReS5HIxAK8cws4', 'parameterization/02_notebook_fixed_response.ipynb')\n",
    "sciebo.download_file('https://uni-bonn.sciebo.de/s/QxcX90gL9B7paar', 'parameterization/03_notebook_fixed_feedback.ipynb')"
   ]
  },
  {
   "cell_type": "markdown",
   "id": "d7e2ddba-c6b7-484b-bf92-7b83518ae117",
   "metadata": {},
   "source": [
    "## Executing Notebooks from Command Line\n",
    "\n",
    "Running a notebook from command-line can be useful to automate execution of Jupyter notebook as part of a workflow or pipeline.\n",
    "It can help us integrate it with task scheduling tools to perform routine tasks without manually opening and running the notebook.\n",
    "Another use would be when dealing with multiple notebooks, running from command-line allows for batch processing enabling us to execute several notebooks sequentially without manually interacting with each one.\n",
    "\n",
    "\n",
    "Here we will look into a tool called `papermill` that can execute notebooks from command-line. For this, we use three notebooks\n",
    "\n",
    "1. `parameterization/01_notebook_brain_area.ipynb`: Filters 2016-12-14_Cori.csv to a selected brain area to make a processed csv file. By default, it will be `VISp`\n",
    "2. `parameterization/02_notebook_fixed_response.ipynb`: Based on the selected response type, it examines how feedback affects LFP signals in the brain area using the processed csv.\n",
    "3. `parameterization/03_notebook_fixed_feedback.ipynb`: Based on the selected feedback type, it examines how mice's response affects LFP signals in the brain area using the processed csv.\n",
    "\n",
    "\n",
    "***Notebooks 2 and 3 are not dependent on each other.\n",
    "Both use the output from `notebook 1` for their analysis.***\n",
    "\n",
    "\n",
    "| **Code Syntax**                                              | **What it Does**                                                                 |\n",
    "|--------------------------------------------------------------|----------------------------------------------------------------------------------|\n",
    "| `!papermill parameterization/01_notebook_brain_area.ipynb output.ipynb` | Executes the Jupyter notebook `01_notebook_brain_area.ipynb` using `papermill` and saves the output to `output.ipynb`. Papermill allows for parameterized execution of notebooks. |\n"
   ]
  },
  {
   "cell_type": "markdown",
   "id": "dabf7941-b2a7-44e2-b79a-f3dc0a074ea0",
   "metadata": {},
   "source": [
    "**Example** Execute notebook1 as `output.ipynb` and examine it. Was any other file generated from this?"
   ]
  },
  {
   "cell_type": "code",
   "execution_count": 26,
   "id": "431aebbe-757c-4ba5-8eac-cb380f3f5484",
   "metadata": {},
   "outputs": [
    {
     "name": "stdout",
     "output_type": "stream",
     "text": [
      "Input Notebook:  parameterization/01_notebook_brain_area.ipynb\n",
      "Output Notebook: output.ipynb\n",
      "Executing:   0%|                                       | 0/18 [00:00<?, ?cell/s]Executing notebook with kernel: python3\n",
      "Executing: 100%|██████████████████████████████| 18/18 [00:15<00:00,  1.19cell/s]\n"
     ]
    }
   ],
   "source": [
    "!papermill parameterization/01_notebook_brain_area.ipynb output.ipynb"
   ]
  },
  {
   "cell_type": "markdown",
   "id": "3b2c4268-79ad-4d47-a09c-6dd13a61462b",
   "metadata": {},
   "source": [
    "Execute notebook 2 as `output.ipynb` and examine the output."
   ]
  },
  {
   "cell_type": "code",
   "execution_count": 27,
   "id": "1328b0b1-57ba-428c-ab39-fcf727f9e590",
   "metadata": {},
   "outputs": [
    {
     "name": "stdout",
     "output_type": "stream",
     "text": [
      "Input Notebook:  parameterization/02_notebook_fixed_response.ipynb\n",
      "Output Notebook: output.ipynb\n",
      "Executing:   0%|                                        | 0/8 [00:00<?, ?cell/s]Executing notebook with kernel: python3\n",
      "Executing: 100%|████████████████████████████████| 8/8 [00:19<00:00,  2.41s/cell]\n"
     ]
    }
   ],
   "source": [
    "!papermill parameterization/02_notebook_fixed_response.ipynb output.ipynb"
   ]
  },
  {
   "cell_type": "markdown",
   "id": "1ac9c23d-51d3-4a5e-bb9f-18c90d3e2907",
   "metadata": {},
   "source": [
    "Execute notebook 3 as `output.ipynb` and examine the output."
   ]
  },
  {
   "cell_type": "code",
   "execution_count": 28,
   "id": "31d82c8d-d817-4b36-9966-3a8e4b2fb713",
   "metadata": {},
   "outputs": [
    {
     "name": "stdout",
     "output_type": "stream",
     "text": [
      "Input Notebook:  parameterization/03_notebook_fixed_feedback.ipynb\n",
      "Output Notebook: output.ipynb\n",
      "Executing:   0%|                                        | 0/8 [00:00<?, ?cell/s]Executing notebook with kernel: python3\n",
      "Executing: 100%|████████████████████████████████| 8/8 [00:24<00:00,  3.01s/cell]\n"
     ]
    }
   ],
   "source": [
    "!papermill parameterization/03_notebook_fixed_feedback.ipynb output.ipynb"
   ]
  },
  {
   "cell_type": "markdown",
   "id": "baf4edfe-c280-42e0-ac2c-5ee1730077dc",
   "metadata": {},
   "source": [
    "**Delete `output_data/processed_brain_area.csv` file.**\n",
    "\n",
    "Execute notebook 3 as `output.ipynb` and examine it. What do you see?"
   ]
  },
  {
   "cell_type": "code",
   "execution_count": 29,
   "id": "979869f4-055a-43de-94ce-a8459d53d91a",
   "metadata": {},
   "outputs": [
    {
     "name": "stdout",
     "output_type": "stream",
     "text": [
      "Input Notebook:  parameterization/03_notebook_fixed_feedback.ipynb\n",
      "Output Notebook: output.ipynb\n",
      "Executing:   0%|                                        | 0/8 [00:00<?, ?cell/s]Executing notebook with kernel: python3\n",
      "Executing:  62%|████████████████████            | 5/8 [00:17<00:10,  3.42s/cell]\n",
      "Traceback (most recent call last):\n",
      "  File \"/home/panos/anaconda3/envs/ndd/bin/papermill\", line 8, in <module>\n",
      "    sys.exit(papermill())\n",
      "             ^^^^^^^^^^^\n",
      "  File \"/home/panos/anaconda3/envs/ndd/lib/python3.11/site-packages/click/core.py\", line 1157, in __call__\n",
      "    return self.main(*args, **kwargs)\n",
      "           ^^^^^^^^^^^^^^^^^^^^^^^^^^\n",
      "  File \"/home/panos/anaconda3/envs/ndd/lib/python3.11/site-packages/click/core.py\", line 1078, in main\n",
      "    rv = self.invoke(ctx)\n",
      "         ^^^^^^^^^^^^^^^^\n",
      "  File \"/home/panos/anaconda3/envs/ndd/lib/python3.11/site-packages/click/core.py\", line 1434, in invoke\n",
      "    return ctx.invoke(self.callback, **ctx.params)\n",
      "           ^^^^^^^^^^^^^^^^^^^^^^^^^^^^^^^^^^^^^^^\n",
      "  File \"/home/panos/anaconda3/envs/ndd/lib/python3.11/site-packages/click/core.py\", line 783, in invoke\n",
      "    return __callback(*args, **kwargs)\n",
      "           ^^^^^^^^^^^^^^^^^^^^^^^^^^^\n",
      "  File \"/home/panos/anaconda3/envs/ndd/lib/python3.11/site-packages/click/decorators.py\", line 33, in new_func\n",
      "    return f(get_current_context(), *args, **kwargs)\n",
      "           ^^^^^^^^^^^^^^^^^^^^^^^^^^^^^^^^^^^^^^^^^\n",
      "  File \"/home/panos/anaconda3/envs/ndd/lib/python3.11/site-packages/papermill/cli.py\", line 235, in papermill\n",
      "    execute_notebook(\n",
      "  File \"/home/panos/anaconda3/envs/ndd/lib/python3.11/site-packages/papermill/execute.py\", line 131, in execute_notebook\n",
      "    raise_for_execution_errors(nb, output_path)\n",
      "  File \"/home/panos/anaconda3/envs/ndd/lib/python3.11/site-packages/papermill/execute.py\", line 251, in raise_for_execution_errors\n",
      "    raise error\n",
      "papermill.exceptions.PapermillExecutionError: \n",
      "---------------------------------------------------------------------------\n",
      "Exception encountered at \"In [3]\":\n",
      "---------------------------------------------------------------------------\n",
      "FileNotFoundError                         Traceback (most recent call last)\n",
      "Cell In [3], line 1\n",
      "----> 1 df = pd.read_csv(input_csv)\n",
      "      2 df.head()\n",
      "\n",
      "File ~/anaconda3/envs/ndd/lib/python3.11/site-packages/pandas/io/parsers/readers.py:1026, in read_csv(filepath_or_buffer, sep, delimiter, header, names, index_col, usecols, dtype, engine, converters, true_values, false_values, skipinitialspace, skiprows, skipfooter, nrows, na_values, keep_default_na, na_filter, verbose, skip_blank_lines, parse_dates, infer_datetime_format, keep_date_col, date_parser, date_format, dayfirst, cache_dates, iterator, chunksize, compression, thousands, decimal, lineterminator, quotechar, quoting, doublequote, escapechar, comment, encoding, encoding_errors, dialect, on_bad_lines, delim_whitespace, low_memory, memory_map, float_precision, storage_options, dtype_backend)\n",
      "   1013 kwds_defaults = _refine_defaults_read(\n",
      "   1014     dialect,\n",
      "   1015     delimiter,\n",
      "   (...)\n",
      "   1022     dtype_backend=dtype_backend,\n",
      "   1023 )\n",
      "   1024 kwds.update(kwds_defaults)\n",
      "-> 1026 return _read(filepath_or_buffer, kwds)\n",
      "\n",
      "File ~/anaconda3/envs/ndd/lib/python3.11/site-packages/pandas/io/parsers/readers.py:620, in _read(filepath_or_buffer, kwds)\n",
      "    617 _validate_names(kwds.get(\"names\", None))\n",
      "    619 # Create the parser.\n",
      "--> 620 parser = TextFileReader(filepath_or_buffer, **kwds)\n",
      "    622 if chunksize or iterator:\n",
      "    623     return parser\n",
      "\n",
      "File ~/anaconda3/envs/ndd/lib/python3.11/site-packages/pandas/io/parsers/readers.py:1620, in TextFileReader.__init__(self, f, engine, **kwds)\n",
      "   1617     self.options[\"has_index_names\"] = kwds[\"has_index_names\"]\n",
      "   1619 self.handles: IOHandles | None = None\n",
      "-> 1620 self._engine = self._make_engine(f, self.engine)\n",
      "\n",
      "File ~/anaconda3/envs/ndd/lib/python3.11/site-packages/pandas/io/parsers/readers.py:1880, in TextFileReader._make_engine(self, f, engine)\n",
      "   1878     if \"b\" not in mode:\n",
      "   1879         mode += \"b\"\n",
      "-> 1880 self.handles = get_handle(\n",
      "   1881     f,\n",
      "   1882     mode,\n",
      "   1883     encoding=self.options.get(\"encoding\", None),\n",
      "   1884     compression=self.options.get(\"compression\", None),\n",
      "   1885     memory_map=self.options.get(\"memory_map\", False),\n",
      "   1886     is_text=is_text,\n",
      "   1887     errors=self.options.get(\"encoding_errors\", \"strict\"),\n",
      "   1888     storage_options=self.options.get(\"storage_options\", None),\n",
      "   1889 )\n",
      "   1890 assert self.handles is not None\n",
      "   1891 f = self.handles.handle\n",
      "\n",
      "File ~/anaconda3/envs/ndd/lib/python3.11/site-packages/pandas/io/common.py:873, in get_handle(path_or_buf, mode, encoding, compression, memory_map, is_text, errors, storage_options)\n",
      "    868 elif isinstance(handle, str):\n",
      "    869     # Check whether the filename is to be opened in binary mode.\n",
      "    870     # Binary mode does not support 'encoding' and 'newline'.\n",
      "    871     if ioargs.encoding and \"b\" not in ioargs.mode:\n",
      "    872         # Encoding\n",
      "--> 873         handle = open(\n",
      "    874             handle,\n",
      "    875             ioargs.mode,\n",
      "    876             encoding=ioargs.encoding,\n",
      "    877             errors=errors,\n",
      "    878             newline=\"\",\n",
      "    879         )\n",
      "    880     else:\n",
      "    881         # Binary mode\n",
      "    882         handle = open(handle, ioargs.mode)\n",
      "\n",
      "FileNotFoundError: [Errno 2] No such file or directory: 'output_data/processed_brain_area.csv'\n",
      "\n"
     ]
    }
   ],
   "source": [
    "!rm output_data/processed_brain_area.csv\n",
    "!papermill parameterization/03_notebook_fixed_feedback.ipynb output.ipynb"
   ]
  },
  {
   "cell_type": "markdown",
   "id": "f515468a-f138-4460-b9ab-89797378c391",
   "metadata": {},
   "source": [
    "It gives an error in the output of the cell. \n",
    "In `data_analysis/output.ipynb`, you will see a huge error in red on top of the notebook and another red text before the cell where it encountered an error."
   ]
  },
  {
   "cell_type": "markdown",
   "id": "aa9c2208-8268-42f2-9ca9-7ca2ee3bb4d1",
   "metadata": {},
   "source": [
    "Let's see how to execute them sequentially\n",
    "\n",
    "**Example** Execute notebooks 1 and 2 one after the other."
   ]
  },
  {
   "cell_type": "code",
   "execution_count": 30,
   "id": "55f4a798-2f8b-4f8c-8fe5-2780ec64c1c0",
   "metadata": {},
   "outputs": [
    {
     "name": "stdout",
     "output_type": "stream",
     "text": [
      "Input Notebook:  parameterization/01_notebook_brain_area.ipynb\n",
      "Output Notebook: output_1.ipynb\n",
      "Executing:   0%|                                       | 0/18 [00:00<?, ?cell/s]Executing notebook with kernel: python3\n",
      "Executing: 100%|██████████████████████████████| 18/18 [00:14<00:00,  1.20cell/s]\n",
      "Input Notebook:  parameterization/02_notebook_fixed_response.ipynb\n",
      "Output Notebook: output_2.ipynb\n",
      "Executing:   0%|                                        | 0/8 [00:00<?, ?cell/s]Executing notebook with kernel: python3\n",
      "Executing: 100%|████████████████████████████████| 8/8 [00:17<00:00,  2.19s/cell]\n"
     ]
    }
   ],
   "source": [
    "!papermill parameterization/01_notebook_brain_area.ipynb output_1.ipynb\n",
    "!papermill parameterization/02_notebook_fixed_response.ipynb output_2.ipynb"
   ]
  },
  {
   "cell_type": "markdown",
   "id": "7d981c37-f314-4d72-be5f-8989362249b4",
   "metadata": {},
   "source": [
    "Execute notebooks 1 and 3 one after the other."
   ]
  },
  {
   "cell_type": "code",
   "execution_count": null,
   "id": "2679ec8f-4169-430f-bde4-45bf2fa1fdc0",
   "metadata": {},
   "outputs": [],
   "source": []
  },
  {
   "cell_type": "markdown",
   "id": "b80e51f8-7596-4f7a-871a-270abcdd0eb4",
   "metadata": {},
   "source": [
    "Execute all the three notebooks one after the other"
   ]
  },
  {
   "cell_type": "code",
   "execution_count": null,
   "id": "5d550f71-4317-4a74-b9eb-f19c3d53729c",
   "metadata": {},
   "outputs": [],
   "source": []
  },
  {
   "cell_type": "markdown",
   "id": "f98c2cce-9d6c-487a-baa5-d4dbfed03747",
   "metadata": {},
   "source": [
    "---"
   ]
  },
  {
   "cell_type": "markdown",
   "id": "366d26c6-537d-4d4f-abee-d02a523f4684",
   "metadata": {},
   "source": [
    "## Passing in Parameters To Notebooks With Papermill\n",
    "\n",
    "Papermill helps with parameterizing Jupyter notebooks by allowing us to inject new inputs (parameters) into a notebook before running it. \n",
    "Parameters have placeholders in the template notebook, and when we run Papermill, it fills those placeholders with the actual values we provide. \n",
    "Papermill then executes the entire notebook with the new inputs, saving the results in a new output notebook. \n",
    "This makes it easy to reuse the same notebook as a template for different data or settings essentially creating an analysis report for different parameter.\n",
    "\n",
    "For this example we will use two same notebooks as the previous section and get some practice with passing parameters to template notebooks."
   ]
  },
  {
   "cell_type": "markdown",
   "id": "55ed37e2-db49-43f9-84e6-b6be920d0de2",
   "metadata": {
    "editable": true,
    "slideshow": {
     "slide_type": ""
    },
    "tags": []
   },
   "source": [
    "**Setting Parameters**\n",
    "\n",
    "To make papermill know that a cell contains parameters\n",
    "\n",
    "1. Put all parameters in a single cell before any other cell that uses them\n",
    "2. Click on the cell and then the gear icon next to the notebook\n",
    "3. Type `parameters` within Cell Tags\n",
    "\n",
    "Do this for all the three notebooks\n",
    "\n",
    "With papermill, we can pass different values for any variable inside the cell tagged as `parameters` by adding a `-p` for each parameter.\n",
    "\n",
    "In this section, let us use the three notebooks as templates and make reports for different brain areas, responses, and feedbacks to learn how papermill works. Same technique can be applied to complex problems as well.\n",
    "\n",
    "\n",
    "| **Code Syntax**                                              | **What it Does**                                                                 |\n",
    "|--------------------------------------------------------------|----------------------------------------------------------------------------------|\n",
    "| `!papermill notebook.ipynb -p output_csv visp.csv visp_notebook.ipynb` | Runs the notebook `notebook.ipynb` with `papermill`, passing the parameter `output_csv` with the value `visp.csv`, and saves the output to `visp_notebook.ipynb`. |\n",
    "| `!papermill notebook.ipynb -p brain_area ACA -p output_csv aca.csv aca_notebook.ipynb` | Runs the notebook `notebook.ipynb` with `papermill`, passing two parameters: `brain_area` with the value `ACA` and `output_csv` with the value `aca.csv`, and saves the output to `aca_notebook.ipynb`. |\n"
   ]
  },
  {
   "cell_type": "markdown",
   "id": "2ba7ca64-42ed-42f6-a681-7e835babe504",
   "metadata": {},
   "source": [
    "**Example** Run notebook 1 specifying that the output should be called `processed_VISp.csv`"
   ]
  },
  {
   "cell_type": "code",
   "execution_count": 31,
   "id": "0b572a2c-1ff4-45ab-9a5d-d6497ac57198",
   "metadata": {},
   "outputs": [
    {
     "name": "stdout",
     "output_type": "stream",
     "text": [
      "Input Notebook:  parameterization/01_notebook_brain_area.ipynb\n",
      "Output Notebook: 01_notebook_visp.ipynb\n",
      "Executing:   0%|                                       | 0/19 [00:00<?, ?cell/s]Executing notebook with kernel: python3\n",
      "Executing: 100%|██████████████████████████████| 19/19 [00:15<00:00,  1.22cell/s]\n"
     ]
    }
   ],
   "source": [
    "!papermill parameterization/01_notebook_brain_area.ipynb -p output_csv output_data/processed_visp.csv 01_notebook_visp.ipynb"
   ]
  },
  {
   "cell_type": "markdown",
   "id": "641a0964-05ed-40ba-8289-a1eee5d1ad7a",
   "metadata": {},
   "source": [
    "Run notebook 2 specifying that the input csv is now called `output_data/processed_VISp.csv`"
   ]
  },
  {
   "cell_type": "code",
   "execution_count": 32,
   "id": "355c5f7a-ca8c-471c-85c5-7c80a751700e",
   "metadata": {},
   "outputs": [
    {
     "name": "stdout",
     "output_type": "stream",
     "text": [
      "Input Notebook:  parameterization/02_notebook_fixed_response.ipynb\n",
      "Output Notebook: 02_notebook_visp.ipynb\n",
      "Executing:   0%|                                        | 0/9 [00:00<?, ?cell/s]Executing notebook with kernel: python3\n",
      "Executing: 100%|████████████████████████████████| 9/9 [00:19<00:00,  2.20s/cell]\n"
     ]
    }
   ],
   "source": [
    "!papermill parameterization/02_notebook_fixed_response.ipynb -p input_csv output_data/processed_visp.csv 02_notebook_visp.ipynb"
   ]
  },
  {
   "cell_type": "markdown",
   "id": "6308b763-6f76-4397-985c-0806bd1a2101",
   "metadata": {},
   "source": [
    "Run notebook 3 specifying that the input csv is now called `output_data/processed_VISp.csv`"
   ]
  },
  {
   "cell_type": "code",
   "execution_count": 33,
   "id": "ccd02c05-b9ca-47f0-85c7-5d79ddfe70ec",
   "metadata": {},
   "outputs": [
    {
     "name": "stdout",
     "output_type": "stream",
     "text": [
      "Input Notebook:  parameterization/03_notebook_fixed_feedback.ipynb\n",
      "Output Notebook: 03_notebook_visp.ipynb\n",
      "Executing:   0%|                                        | 0/9 [00:00<?, ?cell/s]Executing notebook with kernel: python3\n",
      "Executing: 100%|████████████████████████████████| 9/9 [00:22<00:00,  2.51s/cell]\n"
     ]
    }
   ],
   "source": [
    "!papermill parameterization/03_notebook_fixed_feedback.ipynb -p input_csv output_data/processed_visp.csv 03_notebook_visp.ipynb"
   ]
  },
  {
   "cell_type": "markdown",
   "id": "fc163e84-a4b3-4450-993b-53bc977366eb",
   "metadata": {},
   "source": [
    "Run notebook 3 specifying that the input csv is now called `output_data/processed_ACA.csv`. Examine the output notebook. What information do you get?"
   ]
  },
  {
   "cell_type": "code",
   "execution_count": 41,
   "id": "6c346024-3df2-4aae-91ef-6003a8c3c696",
   "metadata": {},
   "outputs": [],
   "source": []
  },
  {
   "cell_type": "markdown",
   "id": "ed20e804-c87d-4111-9890-9357c2412d46",
   "metadata": {},
   "source": [
    "**Example** Run `notebook 1` specifying that the brain area is `ACA` and output should be called `processed_ACA.csv`"
   ]
  },
  {
   "cell_type": "code",
   "execution_count": 34,
   "id": "31fcf525-84d3-45b6-b1e5-7c98eed1c7ea",
   "metadata": {},
   "outputs": [
    {
     "name": "stdout",
     "output_type": "stream",
     "text": [
      "Input Notebook:  parameterization/01_notebook_brain_area.ipynb\n",
      "Output Notebook: 01_notebook_aca.ipynb\n",
      "Executing:   0%|                                       | 0/19 [00:00<?, ?cell/s]Executing notebook with kernel: python3\n",
      "Executing: 100%|██████████████████████████████| 19/19 [00:17<00:00,  1.10cell/s]\n"
     ]
    }
   ],
   "source": [
    "!papermill parameterization/01_notebook_brain_area.ipynb -p brain_area ACA -p output_csv output_data/processed_ACA.csv 01_notebook_aca.ipynb"
   ]
  },
  {
   "cell_type": "markdown",
   "id": "b0070d28-7082-46c6-a5a8-b1a36603621c",
   "metadata": {},
   "source": [
    "Run `notebook 2` specifying that the input file is `output_data/processed_ACA.csv` and response_type as 0"
   ]
  },
  {
   "cell_type": "code",
   "execution_count": 38,
   "id": "d59639cb-64b2-4f4b-9dad-15649fbfdcb6",
   "metadata": {},
   "outputs": [
    {
     "name": "stdout",
     "output_type": "stream",
     "text": [
      "Input Notebook:  parameterization/02_notebook_fixed_response.ipynb\n",
      "Output Notebook: 02_notebook_aca_response_type_0.ipynb\n",
      "Executing:   0%|                                        | 0/9 [00:00<?, ?cell/s]Executing notebook with kernel: python3\n",
      "Executing: 100%|████████████████████████████████| 9/9 [00:18<00:00,  2.02s/cell]\n"
     ]
    }
   ],
   "source": [
    "!papermill parameterization/02_notebook_fixed_response.ipynb -p input_csv output_data/processed_ACA.csv -p response_type 0 02_notebook_aca_response_type_0.ipynb"
   ]
  },
  {
   "cell_type": "markdown",
   "id": "37b2d1ce-efc6-4cdd-afde-1a5a22932194",
   "metadata": {},
   "source": [
    "Run `notebook 2` specifying that the input file is `output_data/processed_ACA.csv` and response_type as -1. Compare with previous report (output notebook)"
   ]
  },
  {
   "cell_type": "code",
   "execution_count": 39,
   "id": "0573532e-51ee-44ca-9821-28a39d1406ff",
   "metadata": {},
   "outputs": [
    {
     "name": "stdout",
     "output_type": "stream",
     "text": [
      "Input Notebook:  parameterization/02_notebook_fixed_response.ipynb\n",
      "Output Notebook: 02_notebook_aca_response_type_min1.ipynb\n",
      "Executing:   0%|                                        | 0/9 [00:00<?, ?cell/s]Executing notebook with kernel: python3\n",
      "Executing: 100%|████████████████████████████████| 9/9 [00:18<00:00,  2.11s/cell]\n"
     ]
    }
   ],
   "source": [
    "!papermill parameterization/02_notebook_fixed_response.ipynb -p input_csv output_data/processed_ACA.csv -p response_type -1 02_notebook_aca_response_type_min1.ipynb"
   ]
  },
  {
   "cell_type": "markdown",
   "id": "43a14706-9994-4246-b92a-340a367c948d",
   "metadata": {},
   "source": [
    "Run all three notebooks one after the other for brain area `SUB`, response type 0, and feedback type -1."
   ]
  },
  {
   "cell_type": "code",
   "execution_count": 41,
   "id": "16289881-b168-4bc5-9250-6e34dc67238f",
   "metadata": {},
   "outputs": [
    {
     "name": "stdout",
     "output_type": "stream",
     "text": [
      "Input Notebook:  parameterization/01_notebook_brain_area.ipynb\n",
      "Output Notebook: output_1_SUB.ipynb\n",
      "Executing:   0%|                                       | 0/19 [00:00<?, ?cell/s]Executing notebook with kernel: python3\n",
      "Executing: 100%|██████████████████████████████| 19/19 [00:14<00:00,  1.28cell/s]\n",
      "Input Notebook:  parameterization/02_notebook_fixed_response.ipynb\n",
      "Output Notebook: output_2_SUB.ipynb\n",
      "Executing:   0%|                                        | 0/9 [00:00<?, ?cell/s]Executing notebook with kernel: python3\n",
      "Executing: 100%|████████████████████████████████| 9/9 [00:18<00:00,  2.07s/cell]\n",
      "Input Notebook:  parameterization/03_notebook_fixed_feedback.ipynb\n",
      "Output Notebook: output_3_SUB.ipynb\n",
      "Executing:   0%|                                        | 0/9 [00:00<?, ?cell/s]Executing notebook with kernel: python3\n",
      "Executing: 100%|████████████████████████████████| 9/9 [00:21<00:00,  2.35s/cell]\n"
     ]
    }
   ],
   "source": [
    "!papermill parameterization/01_notebook_brain_area.ipynb -p brain_area SUB -p output_csv output_data/processed_SUB.csv output_1_SUB.ipynb\n",
    "!papermill parameterization/02_notebook_fixed_response.ipynb -p input_csv output_data/processed_SUB.csv -p response_type 0 output_2_SUB.ipynb\n",
    "!papermill parameterization/03_notebook_fixed_feedback.ipynb -p input_csv output_data/processed_SUB.csv -p feedback_type -1 output_3_SUB.ipynb"
   ]
  },
  {
   "cell_type": "markdown",
   "id": "12bdaa23-03ae-470d-8e01-8afa906e06b6",
   "metadata": {},
   "source": [
    "## Batch Processing Notebooks With Papermill Python API\n",
    "\n",
    "In a Jupyter notebook, you can use a for loop to automate the execution of multiple notebooks with different input parameters using papermill. \n",
    "This approach allows for dynamic notebook execution by iterating over a list of notebooks and their corresponding parameter sets, enabling each notebook to be run with customized inputs. \n",
    "During each iteration of the loop, papermill executes the notebook with the specified parameters and generates a new output notebook, which is can be saved with a unique filename.\n",
    "\n",
    "Let's get some practice batch processing in Python using for-loops\n",
    "\n",
    "\n",
    "\n",
    "| **Code Syntax**                                              | **What it Does**                                                                 |\n",
    "|--------------------------------------------------------------|----------------------------------------------------------------------------------|\n",
    "| `template_notebook = 'notebook.ipynb'`                       | Sets the variable `template_notebook` to the name of the template notebook file.  |\n",
    "| `params = [dict(output_csv='ls.csv', brain_area='LS'), dict(output_csv='ca3.csv', brain_area='CA3')]` | Creates a list of parameter dictionaries for different `output_csv` and `brain_area` values. |\n",
    "| `output_nb_names = ['ls_notebook.ipynb', 'ca3_notebook.ipynb']` | Sets the names of the output notebooks.                                          |\n",
    "| `for param, output_nb_name in zip(params, output_nb_names):` | Loops through each parameter set and its corresponding output notebook name.     |\n",
    "| `pm.execute_notebook(template_notebook, output_nb_name, parameters=param)` | Runs the `template_notebook` with `papermill`, passing the current parameters, and saves the result as `output_nb_name`. |\n"
   ]
  },
  {
   "cell_type": "code",
   "execution_count": 42,
   "id": "4476014e-9b28-414a-80c2-d2223e3b59c1",
   "metadata": {},
   "outputs": [
    {
     "data": {
      "text/plain": [
       "array(['ACA', 'LS', 'MOs', 'CA3', 'DG', 'SUB', 'VISp'], dtype=object)"
      ]
     },
     "execution_count": 42,
     "metadata": {},
     "output_type": "execute_result"
    }
   ],
   "source": [
    "import pandas as pd\n",
    "df = pd.read_csv('data/2016-12-14_Cori.csv')\n",
    "df.brain_area_lfp.unique()"
   ]
  },
  {
   "cell_type": "markdown",
   "id": "4b07754f-ec78-4044-a524-c2191ae95e14",
   "metadata": {},
   "source": [
    "**Example** Run notebook 1 for brain area `LS` and `CA3`"
   ]
  },
  {
   "cell_type": "code",
   "execution_count": 43,
   "id": "a671d089-bd7a-42fb-9e5d-646a8ef398dc",
   "metadata": {},
   "outputs": [
    {
     "data": {
      "application/vnd.jupyter.widget-view+json": {
       "model_id": "b6ea2979f44b4d54aefa02011e0b2d53",
       "version_major": 2,
       "version_minor": 0
      },
      "text/plain": [
       "Executing:   0%|          | 0/19 [00:00<?, ?cell/s]"
      ]
     },
     "metadata": {},
     "output_type": "display_data"
    },
    {
     "name": "stderr",
     "output_type": "stream",
     "text": [
      "0.00s - Debugger warning: It seems that frozen modules are being used, which may\n",
      "0.00s - make the debugger miss breakpoints. Please pass -Xfrozen_modules=off\n",
      "0.00s - to python to disable frozen modules.\n",
      "0.00s - Note: Debugging will proceed. Set PYDEVD_DISABLE_FILE_VALIDATION=1 to disable this validation.\n"
     ]
    },
    {
     "data": {
      "application/vnd.jupyter.widget-view+json": {
       "model_id": "835235c75960456d9b22a21ba93aaddf",
       "version_major": 2,
       "version_minor": 0
      },
      "text/plain": [
       "Executing:   0%|          | 0/19 [00:00<?, ?cell/s]"
      ]
     },
     "metadata": {},
     "output_type": "display_data"
    },
    {
     "name": "stderr",
     "output_type": "stream",
     "text": [
      "0.00s - Debugger warning: It seems that frozen modules are being used, which may\n",
      "0.00s - make the debugger miss breakpoints. Please pass -Xfrozen_modules=off\n",
      "0.00s - to python to disable frozen modules.\n",
      "0.00s - Note: Debugging will proceed. Set PYDEVD_DISABLE_FILE_VALIDATION=1 to disable this validation.\n"
     ]
    }
   ],
   "source": [
    "template_noteboook = 'parameterization/01_notebook_brain_area.ipynb'\n",
    "params = [dict(output_csv='output_data/01_notebook_LS.csv', brain_area='LS'), dict(output_csv='output_data/01_notebook_CA3.csv', brain_area='CA3')]\n",
    "output_nb_names = ['01_notebook_LS.ipynb', '01_notebook_CA3.ipynb']\n",
    "\n",
    "for param, output_nb_name in zip(params, output_nb_names):\n",
    "    pm.execute_notebook(\n",
    "        template_noteboook,\n",
    "        output_nb_name,\n",
    "        parameters=param\n",
    "    )"
   ]
  },
  {
   "cell_type": "markdown",
   "id": "75bf428e-3c6a-4628-ba82-6b7dc227cac6",
   "metadata": {},
   "source": [
    "Run notebook 2 for brain area `LS` and response types of 1, 0, and -1."
   ]
  },
  {
   "cell_type": "code",
   "execution_count": null,
   "id": "157bd54b-a66b-4e20-b02b-4436e04c6d1a",
   "metadata": {},
   "outputs": [],
   "source": [
    "for param, output_nb_name in zip(params, output_nb_names):\n",
    "    pm.execute_notebook(\n",
    "        'parameterization/02_notebook_fixed_response.ipynb',\n",
    "        output_nb_name,\n",
    "        parameters=param\n",
    "    )"
   ]
  },
  {
   "cell_type": "markdown",
   "id": "f1ccfaf5-64cd-4633-aefd-a57f64d9cfae",
   "metadata": {},
   "source": [
    "Run notebook 3 for brain area LS and response types 1 and -1"
   ]
  },
  {
   "cell_type": "code",
   "execution_count": null,
   "id": "1c0a0513-d6f5-4d84-816f-727b2c107eae",
   "metadata": {},
   "outputs": [],
   "source": []
  },
  {
   "cell_type": "markdown",
   "id": "5b5457a9-1f57-41d2-953d-fc0775b1a7da",
   "metadata": {},
   "source": [
    "We can automate naming of outputs by making use of f-strings in Python to help us follow a structured naming of files. Names will be automatically set inside the for-loop and not in the params dictionary.\n",
    "\n",
    "**Example** Run notebook 1 for brain area `LS`, `CA3`"
   ]
  },
  {
   "cell_type": "code",
   "execution_count": null,
   "id": "bfe641e7-e939-4d8d-a3a8-46512e9bbf2e",
   "metadata": {},
   "outputs": [],
   "source": [
    "template_noteboook = 'parameterization/01_notebook_brain_area.ipynb'\n",
    "params = [dict(brain_area='LS'), dict(brain_area='CA3')]\n",
    "\n",
    "for param in params:\n",
    "    param['output_csv'] = 'output_data/' + f'01_notebook_{param['brain_area']}.csv'\n",
    "    output_nb_name = f'01_notebook_{param['brain_area']}.ipynb'\n",
    "    \n",
    "    pm.execute_notebook(\n",
    "        template_noteboook,\n",
    "        output_nb_name,\n",
    "        parameters=param\n",
    "    )"
   ]
  },
  {
   "cell_type": "markdown",
   "id": "fea78412-fd2e-41d0-936b-7f9408f2ea17",
   "metadata": {},
   "source": [
    "Run notebook 1 for brain area `LS`, `CA3`, and `SUB`"
   ]
  },
  {
   "cell_type": "code",
   "execution_count": null,
   "id": "0e7d2643-0b9a-453f-b70b-763234f91582",
   "metadata": {},
   "outputs": [],
   "source": []
  },
  {
   "cell_type": "markdown",
   "id": "a6d0ef00-3eb4-4a48-8d87-6969cf8cb1d0",
   "metadata": {},
   "source": [
    "This is especially helpful when we have to run the template notebook for large number of values for a given parameter\n",
    "\n",
    "Run notebook 1 for brain area `LS`, `CA3`, `SUB`, `VISp`, `MOs`, `DG`, `ACA`"
   ]
  },
  {
   "cell_type": "code",
   "execution_count": null,
   "id": "e02df9f0-a198-4417-b066-8928db76e73a",
   "metadata": {},
   "outputs": [],
   "source": []
  },
  {
   "cell_type": "markdown",
   "id": "bcaee1bb-f985-4d46-8164-6293aca39fc1",
   "metadata": {},
   "source": [
    "**(DEMO)** We can make nested for-loops to run all the three notebooks for every parameter combination. This code can be in another notebook that can be executed whenever we have to re-run an entire analysis workflow without having to go back and change parameters in the template notebook."
   ]
  },
  {
   "cell_type": "code",
   "execution_count": null,
   "id": "7736a4a9-7a55-48e5-899a-47aa8e7d8a65",
   "metadata": {},
   "outputs": [],
   "source": [
    "template_noteboook_1 = 'parameterization/01_notebook_brain_area.ipynb'\n",
    "template_noteboook_2 = 'parameterization/02_notebook_fixed_response.ipynb'\n",
    "template_noteboook_3 = 'parameterization/03_notebook_fixed_feedback.ipynb'\n",
    "\n",
    "params_brain_area = [dict(brain_area='LS'), dict(brain_area='CA3'), dict(brain_area='SUB'), dict(brain_area='VISp'), dict(brain_area='MOs'), dict(brain_area='DG'), dict(brain_area='ACA')]\n",
    "params_response = [dict(response_type=1), dict(response_type=0), dict(response_type=-1)]\n",
    "params_feedback = [dict(feedback_type=1), dict(feedback_type=-1)]\n",
    "\n",
    "for param_brain_area in params_brain_area:\n",
    "    param_brain_area['output_csv'] = 'output_data/' + f'01_notebook_{param['brain_area']}.csv'\n",
    "    output_nb_name = f'01_notebook_{param['brain_area']}.ipynb'\n",
    "    \n",
    "    pm.execute_notebook(\n",
    "        template_noteboook_1,\n",
    "        output_nb_name,\n",
    "        parameters=param_brain_area\n",
    "    )\n",
    "\n",
    "    for param_response in params_response:\n",
    "        output_nb_name = f'02_notebook_{param_brain_area['brain_area']}_response_{param_response['response_type']}.ipynb'\n",
    "        param_response['input_csv'] = 'output_data/' + f'01_notebook_{param['brain_area']}.csv'\n",
    "\n",
    "        pm.execute_notebook(\n",
    "            template_noteboook_2,\n",
    "            output_nb_name,\n",
    "            parameters=param_response\n",
    "        )\n",
    "\n",
    "    for param_feedback in params_feedback:\n",
    "        output_nb_name = f'02_notebook_{param_brain_area['brain_area']}_feedback_{param_feedback['feedback_type']}.ipynb'\n",
    "        param_feedback['input_csv'] = 'output_data/' + f'01_notebook_{param['brain_area']}.csv'\n",
    "\n",
    "        pm.execute_notebook(\n",
    "            template_noteboook_3,\n",
    "            output_nb_name,\n",
    "            parameters=param_feedback\n",
    "        )"
   ]
  }
 ],
 "metadata": {
  "kernelspec": {
   "display_name": "ndd",
   "language": "python",
   "name": "ndd"
  },
  "language_info": {
   "codemirror_mode": {
    "name": "ipython",
    "version": 3
   },
   "file_extension": ".py",
   "mimetype": "text/x-python",
   "name": "python",
   "nbconvert_exporter": "python",
   "pygments_lexer": "ipython3",
   "version": "3.11.0"
  }
 },
 "nbformat": 4,
 "nbformat_minor": 5
}
